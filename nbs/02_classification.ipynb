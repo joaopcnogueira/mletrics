{
 "cells": [
  {
   "cell_type": "code",
   "execution_count": null,
   "metadata": {},
   "outputs": [],
   "source": [
    "#| default_exp classification"
   ]
  },
  {
   "cell_type": "markdown",
   "metadata": {},
   "source": [
    "# Classification Metrics\n",
    "\n",
    "> Functions and utilities to calculate classification metrics.\n",
    "\n",
    "- `ks`\n",
    "- `rocauc`"
   ]
  },
  {
   "cell_type": "code",
   "execution_count": null,
   "metadata": {},
   "outputs": [],
   "source": [
    "#|hide\n",
    "from nbdev.showdoc import *"
   ]
  },
  {
   "cell_type": "code",
   "execution_count": null,
   "metadata": {},
   "outputs": [],
   "source": [
    "#|export\n",
    "import pandas as pd\n",
    "from scipy.stats import ks_2samp\n",
    "\n",
    "def ks(y_true,    # the target variable, contains 0's and 1's\n",
    "       y_prob):   # the probability of the\n",
    "\n",
    "   df = pd.DataFrame({\n",
    "      'target': y_true,\n",
    "      'probability': y_prob\n",
    "   })\n",
    "\n",
    "   class0 = df[df['target'] == 0]\n",
    "   class1 = df[df['target'] == 1]\n",
    "\n",
    "   return ks_2samp(class0['probability'], class1['probability']).statistic"
   ]
  },
  {
   "cell_type": "code",
   "execution_count": null,
   "metadata": {},
   "outputs": [],
   "source": []
  }
 ],
 "metadata": {
  "kernelspec": {
   "display_name": "Python 3.8.13 ('mletrics')",
   "language": "python",
   "name": "python3"
  }
 },
 "nbformat": 4,
 "nbformat_minor": 4
}
